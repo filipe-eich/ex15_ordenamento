{
 "cells": [
  {
   "cell_type": "code",
   "execution_count": 23,
   "id": "448c25c0-2634-48ab-96d9-cd63a23aee65",
   "metadata": {},
   "outputs": [
    {
     "data": {
      "text/plain": [
       "'\\nPrograma: ordenamento\\nDescrição: Este programa ordena três valores à escolha do usuário\\nAutor: Filipe Eich\\nData: 28/02/2025\\nVersao: 0.0.1\\n'"
      ]
     },
     "execution_count": 23,
     "metadata": {},
     "output_type": "execute_result"
    }
   ],
   "source": [
    "\"\"\"\n",
    "Programa: ordenamento\n",
    "Descrição: Este programa ordena três valores em ordem crescente, à escolha do usuário\n",
    "Autor: Filipe Eich\n",
    "Data: 28/02/2025\n",
    "Versao: 0.0.1\n",
    "\"\"\"\n"
   ]
  },
  {
   "cell_type": "code",
   "execution_count": 37,
   "id": "894fd8a0-64c7-4b54-8659-5d44615f515f",
   "metadata": {},
   "outputs": [],
   "source": [
    "#Alocaçao de memoria\n",
    "\n",
    "a=\"\"\n",
    "b=\"\"\n",
    "c=\"\"\n",
    "\n",
    "aux=7\n"
   ]
  },
  {
   "cell_type": "code",
   "execution_count": 49,
   "id": "69533df8-fc7f-49b8-b32f-92411efd25d3",
   "metadata": {
    "scrolled": true
   },
   "outputs": [
    {
     "name": "stdin",
     "output_type": "stream",
     "text": [
      "\n",
      "Olá, posso colocar três números em ordem crescente para você. Comece me dizendo o primeiro:  1212312\n",
      "\n",
      "Agora, o segundo:  -1.5\n",
      "\n",
      "Por fim, o terceiro:  -0.5\n"
     ]
    }
   ],
   "source": [
    "#Entrada de dados\n",
    "\n",
    "a = float(input(\"\\nOlá, posso colocar três números em ordem crescente para você. Comece me dizendo o primeiro: \"))\n",
    "b = float(input(\"\\nAgora, o segundo: \"))\n",
    "c = float(input(\"\\nPor fim, o terceiro: \"))\n",
    "\n"
   ]
  },
  {
   "cell_type": "code",
   "execution_count": 51,
   "id": "9ec6182e-f888-4622-8308-4ecf55fffcc7",
   "metadata": {},
   "outputs": [],
   "source": [
    "# Processamento de dados\n",
    "\n",
    "\"\"\"\n",
    "a>b>c; aux=1\n",
    "a>c>b; aux=2\n",
    "b>a>c; aux=3\n",
    "b>c>a; aux=4\n",
    "c>a>b; aux=5\n",
    "c>b>a; aux=6\n",
    "\"\"\"\n",
    "\n",
    "# para a>b>c; aux=1 e a>c>b; aux=2\n",
    "\n",
    "if a>=b and a>=c:\n",
    "    if b>=c:\n",
    "        aux=1\n",
    "    else:\n",
    "        aux=2\n",
    "\n",
    "# para b>a>c; aux=3 e b>c>a; aux=4\n",
    "elif b>=c and b>=a:\n",
    "    if a>=c:\n",
    "        aux=3\n",
    "    else:\n",
    "        aux=4\n",
    "\n",
    "# para c>a>b; aux=5 e c>b>a; aux=6\n",
    "elif c>=b and c>=a:\n",
    "    if a>=b:\n",
    "        aux=5\n",
    "    else:\n",
    "        aux=6\n",
    "\n",
    "\n"
   ]
  },
  {
   "cell_type": "code",
   "execution_count": 55,
   "id": "23ca565b-9252-4690-983f-980220c1d4f4",
   "metadata": {},
   "outputs": [
    {
     "name": "stdout",
     "output_type": "stream",
     "text": [
      "\n",
      "Aqui estão os valores em ordem crescente: -1.5; -0.5; 1212312.0\n"
     ]
    }
   ],
   "source": [
    "#Saida de dados\n",
    "\n",
    "if aux==1:\n",
    "    print(f\"\\nAqui estão os valores em ordem crescente: {c}; {b}; {a}\")\n",
    "elif aux==2:\n",
    "    print(f\"\\nAqui estão os valores em ordem crescente: {b}; {c}; {a}\")\n",
    "elif aux==3:\n",
    "    print(f\"\\nAqui estão os valores em ordem crescente: {c}; {a}; {b}\")\n",
    "elif aux==4:\n",
    "    print(f\"\\nAqui estão os valores em ordem crescente: {a}; {c}; {b}\")\n",
    "elif aux==5:\n",
    "    print(f\"\\nAqui estão os valores em ordem crescente: {b}; {a}; {c}\")\n",
    "elif aux==6:\n",
    "    print(f\"\\nAqui estão os valores em ordem crescente: {a}; {b}; {c}\")\n"
   ]
  },
  {
   "cell_type": "code",
   "execution_count": null,
   "id": "5963554e-b214-463f-820b-86e8ba70fe6c",
   "metadata": {},
   "outputs": [],
   "source": []
  }
 ],
 "metadata": {
  "kernelspec": {
   "display_name": "Python [conda env:base] *",
   "language": "python",
   "name": "conda-base-py"
  },
  "language_info": {
   "codemirror_mode": {
    "name": "ipython",
    "version": 3
   },
   "file_extension": ".py",
   "mimetype": "text/x-python",
   "name": "python",
   "nbconvert_exporter": "python",
   "pygments_lexer": "ipython3",
   "version": "3.12.7"
  }
 },
 "nbformat": 4,
 "nbformat_minor": 5
}
